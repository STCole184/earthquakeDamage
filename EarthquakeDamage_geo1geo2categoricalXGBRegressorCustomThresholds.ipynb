{
  "nbformat": 4,
  "nbformat_minor": 0,
  "metadata": {
    "colab": {
      "name": "EarthquakeDamage-geo1geo2categoricalXGBRegressorCustomThresholds.ipynb",
      "provenance": [],
      "collapsed_sections": [],
      "toc_visible": true,
      "machine_shape": "hm",
      "mount_file_id": "1SsoqMGraaeOoi_2f3BU40yfbXF8LNQTL",
      "authorship_tag": "ABX9TyMShtggqMwRCCop2GWSFm7N",
      "include_colab_link": true
    },
    "kernelspec": {
      "name": "python3",
      "display_name": "Python 3"
    }
  },
  "cells": [
    {
      "cell_type": "markdown",
      "metadata": {
        "id": "view-in-github",
        "colab_type": "text"
      },
      "source": [
        "<a href=\"https://colab.research.google.com/github/STCole184/earthquakeDamage/blob/master/EarthquakeDamage_geo1geo2categoricalXGBRegressorCustomThresholds.ipynb\" target=\"_parent\"><img src=\"https://colab.research.google.com/assets/colab-badge.svg\" alt=\"Open In Colab\"/></a>"
      ]
    },
    {
      "cell_type": "markdown",
      "metadata": {
        "id": "wq8DYEoH3b04",
        "colab_type": "text"
      },
      "source": [
        "This is my solution to the DrivenData competition Richter's Predictor: Modeling Earthquake Damage. As of the writing of this notebook, my solution is ranked 389 of 2290 solutions, i.e. it is in the 83rd percentile.\n",
        "\n",
        "I tried a number of solutions on my way to this solution. A summary of my experiments and their results are below.\n",
        "\n",
        "My best solution ended up using all features except for the geo_level_3_id feature. This feature had too many values to efficiently one-hot encode and use in training my algorithms. It also used regression instead of categorization. The problem is one of ordinal classification, and so the regression model was appropriate. I then took the output of the regression model and manually found optimal thresholds between damage_levels 1 and 2, and 2 and 3. These thresholds were not at the 0.5 mark, and so this manual discovery of thresholds added value to the model.\n",
        "\n",
        "As you can see below, I tried using class rebalancing techniques such as SMOTE and random undersampling of the dominant class of data since the classes of the data were fairly imbalanced. I did not find these techniques to improve my model however.\n",
        "\n",
        "I found my model to over predict the dominant class (damage_level 2) in all of my experiments. Setting thresholds for regression scores between the classes helped to ameliorate this deficiency, but the deficiency remains in my model with recall scores for the minority classes at 47% and 59%. Even breaking the problem down into two binary classifiers to differentiate between damage_level 1 and the rest of the data points, and damage_level 3 and the rest of the data points did not improve my model's performance on this front, or at all.\n",
        "\n",
        "\n",
        "\n",
        "\n",
        "---\n",
        "\n",
        "\n",
        "\n",
        "---\n",
        "\n",
        "\n",
        "\n",
        "**Experiments:**\n",
        "\n",
        "Baseline (random forest classifier, no one-hot encoding of geo features which are technically numeric, even though those numbers are just codes and have no numeric meaning) F1 score: 0.5749697818537634; Conditions: all features, geo features not categorical\n",
        "\n",
        "RandomForest classifier with only geo_1 one-hot encoded, F1 score: 0.626196734521594; Conditions: did not use geo_2 or geo_3 but made geo_1 categorical; Issues: predictions highly skewed to class 2\n",
        "\n",
        "GradientBoost classifier with only geo_1: 0.684; Conditions: did not use geo_2 or geo_3 but made geo_1 categorical, used GradientBoost instead of RandomForest; Issues: predictions still skewed to class 2 but not as much\n",
        "\n",
        "XGBoostClassifier with geo_1 and geo_2: 0.674; Conditions: did not use geo_3 but made geo_1 and geo_2 categorical, used XGBoost instead of RandomForest; Issues: predictions still skewed to class 2 but not as much\n",
        "\n",
        "XGBoostRegressor with geo_1 and geo_2: 0.714; Conditions: did not use geo_3 but made geo_1 and geo_2 categorical, used XGBoost instead of RandomForest; Issues: predictions still skewed to class 2 but not as much\n",
        "\n",
        "XGBoostRegressor with geo_1 and geo_2 and custom thresholds: 0.7175; Conditions: did not use geo_3 but made geo_1 and geo_2 categorical, used XGBoost instead of RandomForest; Issues: predictions still skewed to class 2 but not as much\n",
        "\n",
        "XGBoostRegressor with geo_1 and geo_2 and custom thresholds and smote for balancing training classes: 0.695; Conditions: did not use geo_3 but made geo_1 and geo_2 categorical, used XGBoost instead of RandomForest; Issues: predictions still skewed to class 2 but not as much\n",
        "\n",
        "XGBoostRegressor with geo_1 and geo_2 and custom thresholds and random undersampling for balancing training classes: 0.698; Conditions: did not use geo_3 but made geo_1 and geo_2 categorical, used XGBoost instead of RandomForest; Issues: predictions still skewed to class 2 but not as much\n",
        "\n",
        "Two binary XGBoostClassifiers with geo_1 and geo_2 and custom thresholds to make the classification task easier by splitting it into two classifiers (one to identify just damage_level 1 and one to identify just damage_level 2): 0.674; Conditions: did not use geo_3 but made geo_1 and geo_2 categorical, used XGBoost instead of RandomForest; Issues: I could not get the individual classifier to perform better than the single classifier for all categories."
      ]
    },
    {
      "cell_type": "code",
      "metadata": {
        "id": "3VAe2gQvi7x-",
        "colab_type": "code",
        "colab": {}
      },
      "source": [
        "# Prepare matplotlib for use in notebook\n",
        "%matplotlib inline\n",
        "import matplotlib\n",
        "import seaborn as sns\n",
        "sns.set()\n",
        "matplotlib.rcParams['figure.dpi'] = 144"
      ],
      "execution_count": 0,
      "outputs": []
    },
    {
      "cell_type": "code",
      "metadata": {
        "id": "QEjnLQSBjBeY",
        "colab_type": "code",
        "colab": {}
      },
      "source": [
        "# Import other needed libraries\n",
        "import matplotlib.pyplot as plt\n",
        "import numpy as np\n",
        "import pandas as pd\n",
        "import re\n",
        "import os\n",
        "from sklearn.preprocessing import OneHotEncoder\n",
        "from sklearn.compose import ColumnTransformer\n",
        "from sklearn.model_selection import GridSearchCV\n",
        "from sklearn.model_selection import train_test_split\n",
        "from sklearn.pipeline import Pipeline\n",
        "from sklearn.metrics import f1_score\n",
        "from sklearn import metrics\n",
        "from sklearn.metrics import confusion_matrix\n",
        "from xgboost import XGBRegressor\n",
        "from sklearn.decomposition import PCA"
      ],
      "execution_count": 0,
      "outputs": []
    },
    {
      "cell_type": "code",
      "metadata": {
        "id": "pcdI514VOdne",
        "colab_type": "code",
        "colab": {}
      },
      "source": [
        "# Mount gdrive to access input files\n",
        "# Import PyDrive and associated libraries.\n",
        "# This only needs to be done once in a notebook.\n",
        "from pydrive.auth import GoogleAuth\n",
        "from pydrive.drive import GoogleDrive\n",
        "from google.colab import auth\n",
        "from oauth2client.client import GoogleCredentials\n",
        "\n",
        "# Authenticate and create the PyDrive client.\n",
        "# This only needs to be done once in a notebook.\n",
        "auth.authenticate_user()\n",
        "gauth = GoogleAuth()\n",
        "gauth.credentials = GoogleCredentials.get_application_default()\n",
        "drive = GoogleDrive(gauth)"
      ],
      "execution_count": 0,
      "outputs": []
    },
    {
      "cell_type": "code",
      "metadata": {
        "id": "vCy4vfvUaNth",
        "colab_type": "code",
        "outputId": "5251b383-dfa5-4cfa-e946-63a5697c89bb",
        "colab": {
          "base_uri": "https://localhost:8080/",
          "height": 35
        }
      },
      "source": [
        "# Check folders in my working directory to see how to build paths to input files\n",
        "!ls"
      ],
      "execution_count": 5,
      "outputs": [
        {
          "output_type": "stream",
          "text": [
            "adc.json  drive  sample_data\n"
          ],
          "name": "stdout"
        }
      ]
    },
    {
      "cell_type": "code",
      "metadata": {
        "id": "VyQy5tM5k9T1",
        "colab_type": "code",
        "colab": {}
      },
      "source": [
        "#Read in data\n",
        "\n",
        "train_vals = pd.read_csv(\"drive/My Drive/Earthquake Damage/train_values.csv\")\n",
        "train_labs = pd.read_csv(\"drive/My Drive/Earthquake Damage/train_labels.csv\")\n",
        "test_vals = pd.read_csv(\"drive/My Drive/Earthquake Damage/test_values.csv\")\n",
        "submission_format = pd.read_csv(\"drive/My Drive/Earthquake Damage/submission_format.csv\")"
      ],
      "execution_count": 0,
      "outputs": []
    },
    {
      "cell_type": "code",
      "metadata": {
        "id": "cnepfx-7spBG",
        "colab_type": "code",
        "outputId": "6e8d1d79-1da8-4295-b33f-ca8b87661847",
        "colab": {
          "base_uri": "https://localhost:8080/",
          "height": 69
        }
      },
      "source": [
        "# Now that we have our data loaded, first let's make sure the train data and the train labels are aligned by building id.\n",
        "# The lengths of matches between the two dataframes on building_id and the lengths of each dataframe independently are all the same.\n",
        "# This means they are aligned.\n",
        "\n",
        "print(sum(train_vals['building_id'] == train_labs['building_id']))\n",
        "\n",
        "print(train_vals.shape)\n",
        "\n",
        "print(train_labs.shape)"
      ],
      "execution_count": 26,
      "outputs": [
        {
          "output_type": "stream",
          "text": [
            "260601\n",
            "(260601, 39)\n",
            "(260601, 2)\n"
          ],
          "name": "stdout"
        }
      ]
    },
    {
      "cell_type": "code",
      "metadata": {
        "id": "pFIHQyJKqOGT",
        "colab_type": "code",
        "outputId": "211b9de8-afcb-4aba-b873-f094330d520a",
        "colab": {
          "base_uri": "https://localhost:8080/",
          "height": 239
        }
      },
      "source": [
        "# Check training data shape and content to ensure it is as expected\n",
        "print(train_vals.shape)\n",
        "train_vals.head()"
      ],
      "execution_count": 8,
      "outputs": [
        {
          "output_type": "stream",
          "text": [
            "(260601, 39)\n"
          ],
          "name": "stdout"
        },
        {
          "output_type": "execute_result",
          "data": {
            "text/html": [
              "<div>\n",
              "<style scoped>\n",
              "    .dataframe tbody tr th:only-of-type {\n",
              "        vertical-align: middle;\n",
              "    }\n",
              "\n",
              "    .dataframe tbody tr th {\n",
              "        vertical-align: top;\n",
              "    }\n",
              "\n",
              "    .dataframe thead th {\n",
              "        text-align: right;\n",
              "    }\n",
              "</style>\n",
              "<table border=\"1\" class=\"dataframe\">\n",
              "  <thead>\n",
              "    <tr style=\"text-align: right;\">\n",
              "      <th></th>\n",
              "      <th>building_id</th>\n",
              "      <th>geo_level_1_id</th>\n",
              "      <th>geo_level_2_id</th>\n",
              "      <th>geo_level_3_id</th>\n",
              "      <th>count_floors_pre_eq</th>\n",
              "      <th>age</th>\n",
              "      <th>area_percentage</th>\n",
              "      <th>height_percentage</th>\n",
              "      <th>land_surface_condition</th>\n",
              "      <th>foundation_type</th>\n",
              "      <th>roof_type</th>\n",
              "      <th>ground_floor_type</th>\n",
              "      <th>other_floor_type</th>\n",
              "      <th>position</th>\n",
              "      <th>plan_configuration</th>\n",
              "      <th>has_superstructure_adobe_mud</th>\n",
              "      <th>has_superstructure_mud_mortar_stone</th>\n",
              "      <th>has_superstructure_stone_flag</th>\n",
              "      <th>has_superstructure_cement_mortar_stone</th>\n",
              "      <th>has_superstructure_mud_mortar_brick</th>\n",
              "      <th>has_superstructure_cement_mortar_brick</th>\n",
              "      <th>has_superstructure_timber</th>\n",
              "      <th>has_superstructure_bamboo</th>\n",
              "      <th>has_superstructure_rc_non_engineered</th>\n",
              "      <th>has_superstructure_rc_engineered</th>\n",
              "      <th>has_superstructure_other</th>\n",
              "      <th>legal_ownership_status</th>\n",
              "      <th>count_families</th>\n",
              "      <th>has_secondary_use</th>\n",
              "      <th>has_secondary_use_agriculture</th>\n",
              "      <th>has_secondary_use_hotel</th>\n",
              "      <th>has_secondary_use_rental</th>\n",
              "      <th>has_secondary_use_institution</th>\n",
              "      <th>has_secondary_use_school</th>\n",
              "      <th>has_secondary_use_industry</th>\n",
              "      <th>has_secondary_use_health_post</th>\n",
              "      <th>has_secondary_use_gov_office</th>\n",
              "      <th>has_secondary_use_use_police</th>\n",
              "      <th>has_secondary_use_other</th>\n",
              "    </tr>\n",
              "  </thead>\n",
              "  <tbody>\n",
              "    <tr>\n",
              "      <th>0</th>\n",
              "      <td>802906</td>\n",
              "      <td>6</td>\n",
              "      <td>487</td>\n",
              "      <td>12198</td>\n",
              "      <td>2</td>\n",
              "      <td>30</td>\n",
              "      <td>6</td>\n",
              "      <td>5</td>\n",
              "      <td>t</td>\n",
              "      <td>r</td>\n",
              "      <td>n</td>\n",
              "      <td>f</td>\n",
              "      <td>q</td>\n",
              "      <td>t</td>\n",
              "      <td>d</td>\n",
              "      <td>1</td>\n",
              "      <td>1</td>\n",
              "      <td>0</td>\n",
              "      <td>0</td>\n",
              "      <td>0</td>\n",
              "      <td>0</td>\n",
              "      <td>0</td>\n",
              "      <td>0</td>\n",
              "      <td>0</td>\n",
              "      <td>0</td>\n",
              "      <td>0</td>\n",
              "      <td>v</td>\n",
              "      <td>1</td>\n",
              "      <td>0</td>\n",
              "      <td>0</td>\n",
              "      <td>0</td>\n",
              "      <td>0</td>\n",
              "      <td>0</td>\n",
              "      <td>0</td>\n",
              "      <td>0</td>\n",
              "      <td>0</td>\n",
              "      <td>0</td>\n",
              "      <td>0</td>\n",
              "      <td>0</td>\n",
              "    </tr>\n",
              "    <tr>\n",
              "      <th>1</th>\n",
              "      <td>28830</td>\n",
              "      <td>8</td>\n",
              "      <td>900</td>\n",
              "      <td>2812</td>\n",
              "      <td>2</td>\n",
              "      <td>10</td>\n",
              "      <td>8</td>\n",
              "      <td>7</td>\n",
              "      <td>o</td>\n",
              "      <td>r</td>\n",
              "      <td>n</td>\n",
              "      <td>x</td>\n",
              "      <td>q</td>\n",
              "      <td>s</td>\n",
              "      <td>d</td>\n",
              "      <td>0</td>\n",
              "      <td>1</td>\n",
              "      <td>0</td>\n",
              "      <td>0</td>\n",
              "      <td>0</td>\n",
              "      <td>0</td>\n",
              "      <td>0</td>\n",
              "      <td>0</td>\n",
              "      <td>0</td>\n",
              "      <td>0</td>\n",
              "      <td>0</td>\n",
              "      <td>v</td>\n",
              "      <td>1</td>\n",
              "      <td>0</td>\n",
              "      <td>0</td>\n",
              "      <td>0</td>\n",
              "      <td>0</td>\n",
              "      <td>0</td>\n",
              "      <td>0</td>\n",
              "      <td>0</td>\n",
              "      <td>0</td>\n",
              "      <td>0</td>\n",
              "      <td>0</td>\n",
              "      <td>0</td>\n",
              "    </tr>\n",
              "    <tr>\n",
              "      <th>2</th>\n",
              "      <td>94947</td>\n",
              "      <td>21</td>\n",
              "      <td>363</td>\n",
              "      <td>8973</td>\n",
              "      <td>2</td>\n",
              "      <td>10</td>\n",
              "      <td>5</td>\n",
              "      <td>5</td>\n",
              "      <td>t</td>\n",
              "      <td>r</td>\n",
              "      <td>n</td>\n",
              "      <td>f</td>\n",
              "      <td>x</td>\n",
              "      <td>t</td>\n",
              "      <td>d</td>\n",
              "      <td>0</td>\n",
              "      <td>1</td>\n",
              "      <td>0</td>\n",
              "      <td>0</td>\n",
              "      <td>0</td>\n",
              "      <td>0</td>\n",
              "      <td>0</td>\n",
              "      <td>0</td>\n",
              "      <td>0</td>\n",
              "      <td>0</td>\n",
              "      <td>0</td>\n",
              "      <td>v</td>\n",
              "      <td>1</td>\n",
              "      <td>0</td>\n",
              "      <td>0</td>\n",
              "      <td>0</td>\n",
              "      <td>0</td>\n",
              "      <td>0</td>\n",
              "      <td>0</td>\n",
              "      <td>0</td>\n",
              "      <td>0</td>\n",
              "      <td>0</td>\n",
              "      <td>0</td>\n",
              "      <td>0</td>\n",
              "    </tr>\n",
              "    <tr>\n",
              "      <th>3</th>\n",
              "      <td>590882</td>\n",
              "      <td>22</td>\n",
              "      <td>418</td>\n",
              "      <td>10694</td>\n",
              "      <td>2</td>\n",
              "      <td>10</td>\n",
              "      <td>6</td>\n",
              "      <td>5</td>\n",
              "      <td>t</td>\n",
              "      <td>r</td>\n",
              "      <td>n</td>\n",
              "      <td>f</td>\n",
              "      <td>x</td>\n",
              "      <td>s</td>\n",
              "      <td>d</td>\n",
              "      <td>0</td>\n",
              "      <td>1</td>\n",
              "      <td>0</td>\n",
              "      <td>0</td>\n",
              "      <td>0</td>\n",
              "      <td>0</td>\n",
              "      <td>1</td>\n",
              "      <td>1</td>\n",
              "      <td>0</td>\n",
              "      <td>0</td>\n",
              "      <td>0</td>\n",
              "      <td>v</td>\n",
              "      <td>1</td>\n",
              "      <td>0</td>\n",
              "      <td>0</td>\n",
              "      <td>0</td>\n",
              "      <td>0</td>\n",
              "      <td>0</td>\n",
              "      <td>0</td>\n",
              "      <td>0</td>\n",
              "      <td>0</td>\n",
              "      <td>0</td>\n",
              "      <td>0</td>\n",
              "      <td>0</td>\n",
              "    </tr>\n",
              "    <tr>\n",
              "      <th>4</th>\n",
              "      <td>201944</td>\n",
              "      <td>11</td>\n",
              "      <td>131</td>\n",
              "      <td>1488</td>\n",
              "      <td>3</td>\n",
              "      <td>30</td>\n",
              "      <td>8</td>\n",
              "      <td>9</td>\n",
              "      <td>t</td>\n",
              "      <td>r</td>\n",
              "      <td>n</td>\n",
              "      <td>f</td>\n",
              "      <td>x</td>\n",
              "      <td>s</td>\n",
              "      <td>d</td>\n",
              "      <td>1</td>\n",
              "      <td>0</td>\n",
              "      <td>0</td>\n",
              "      <td>0</td>\n",
              "      <td>0</td>\n",
              "      <td>0</td>\n",
              "      <td>0</td>\n",
              "      <td>0</td>\n",
              "      <td>0</td>\n",
              "      <td>0</td>\n",
              "      <td>0</td>\n",
              "      <td>v</td>\n",
              "      <td>1</td>\n",
              "      <td>0</td>\n",
              "      <td>0</td>\n",
              "      <td>0</td>\n",
              "      <td>0</td>\n",
              "      <td>0</td>\n",
              "      <td>0</td>\n",
              "      <td>0</td>\n",
              "      <td>0</td>\n",
              "      <td>0</td>\n",
              "      <td>0</td>\n",
              "      <td>0</td>\n",
              "    </tr>\n",
              "  </tbody>\n",
              "</table>\n",
              "</div>"
            ],
            "text/plain": [
              "   building_id  ...  has_secondary_use_other\n",
              "0       802906  ...                        0\n",
              "1        28830  ...                        0\n",
              "2        94947  ...                        0\n",
              "3       590882  ...                        0\n",
              "4       201944  ...                        0\n",
              "\n",
              "[5 rows x 39 columns]"
            ]
          },
          "metadata": {
            "tags": []
          },
          "execution_count": 8
        }
      ]
    },
    {
      "cell_type": "code",
      "metadata": {
        "id": "EkvJMnOiocjA",
        "colab_type": "code",
        "outputId": "9976d70b-2630-4f08-8c68-ad6ce540f374",
        "colab": {
          "base_uri": "https://localhost:8080/",
          "height": 219
        }
      },
      "source": [
        "print(train_labs.shape)\n",
        "train_labs.head()"
      ],
      "execution_count": 10,
      "outputs": [
        {
          "output_type": "stream",
          "text": [
            "(260601, 2)\n"
          ],
          "name": "stdout"
        },
        {
          "output_type": "execute_result",
          "data": {
            "text/html": [
              "<div>\n",
              "<style scoped>\n",
              "    .dataframe tbody tr th:only-of-type {\n",
              "        vertical-align: middle;\n",
              "    }\n",
              "\n",
              "    .dataframe tbody tr th {\n",
              "        vertical-align: top;\n",
              "    }\n",
              "\n",
              "    .dataframe thead th {\n",
              "        text-align: right;\n",
              "    }\n",
              "</style>\n",
              "<table border=\"1\" class=\"dataframe\">\n",
              "  <thead>\n",
              "    <tr style=\"text-align: right;\">\n",
              "      <th></th>\n",
              "      <th>building_id</th>\n",
              "      <th>damage_grade</th>\n",
              "    </tr>\n",
              "  </thead>\n",
              "  <tbody>\n",
              "    <tr>\n",
              "      <th>0</th>\n",
              "      <td>802906</td>\n",
              "      <td>3</td>\n",
              "    </tr>\n",
              "    <tr>\n",
              "      <th>1</th>\n",
              "      <td>28830</td>\n",
              "      <td>2</td>\n",
              "    </tr>\n",
              "    <tr>\n",
              "      <th>2</th>\n",
              "      <td>94947</td>\n",
              "      <td>3</td>\n",
              "    </tr>\n",
              "    <tr>\n",
              "      <th>3</th>\n",
              "      <td>590882</td>\n",
              "      <td>2</td>\n",
              "    </tr>\n",
              "    <tr>\n",
              "      <th>4</th>\n",
              "      <td>201944</td>\n",
              "      <td>3</td>\n",
              "    </tr>\n",
              "  </tbody>\n",
              "</table>\n",
              "</div>"
            ],
            "text/plain": [
              "   building_id  damage_grade\n",
              "0       802906             3\n",
              "1        28830             2\n",
              "2        94947             3\n",
              "3       590882             2\n",
              "4       201944             3"
            ]
          },
          "metadata": {
            "tags": []
          },
          "execution_count": 10
        }
      ]
    },
    {
      "cell_type": "code",
      "metadata": {
        "id": "H12rIDzUmUM-",
        "colab_type": "code",
        "outputId": "7cb9f392-da0d-4c34-c4ce-72cde6823125",
        "colab": {
          "base_uri": "https://localhost:8080/",
          "height": 711
        }
      },
      "source": [
        "# Check for missing values in the training data. Fortunately, there aren't any!\n",
        "\n",
        "train_vals.isnull().sum()"
      ],
      "execution_count": 0,
      "outputs": [
        {
          "output_type": "execute_result",
          "data": {
            "text/plain": [
              "building_id                               0\n",
              "geo_level_1_id                            0\n",
              "geo_level_2_id                            0\n",
              "geo_level_3_id                            0\n",
              "count_floors_pre_eq                       0\n",
              "age                                       0\n",
              "area_percentage                           0\n",
              "height_percentage                         0\n",
              "land_surface_condition                    0\n",
              "foundation_type                           0\n",
              "roof_type                                 0\n",
              "ground_floor_type                         0\n",
              "other_floor_type                          0\n",
              "position                                  0\n",
              "plan_configuration                        0\n",
              "has_superstructure_adobe_mud              0\n",
              "has_superstructure_mud_mortar_stone       0\n",
              "has_superstructure_stone_flag             0\n",
              "has_superstructure_cement_mortar_stone    0\n",
              "has_superstructure_mud_mortar_brick       0\n",
              "has_superstructure_cement_mortar_brick    0\n",
              "has_superstructure_timber                 0\n",
              "has_superstructure_bamboo                 0\n",
              "has_superstructure_rc_non_engineered      0\n",
              "has_superstructure_rc_engineered          0\n",
              "has_superstructure_other                  0\n",
              "legal_ownership_status                    0\n",
              "count_families                            0\n",
              "has_secondary_use                         0\n",
              "has_secondary_use_agriculture             0\n",
              "has_secondary_use_hotel                   0\n",
              "has_secondary_use_rental                  0\n",
              "has_secondary_use_institution             0\n",
              "has_secondary_use_school                  0\n",
              "has_secondary_use_industry                0\n",
              "has_secondary_use_health_post             0\n",
              "has_secondary_use_gov_office              0\n",
              "has_secondary_use_use_police              0\n",
              "has_secondary_use_other                   0\n",
              "dtype: int64"
            ]
          },
          "metadata": {
            "tags": []
          },
          "execution_count": 10
        }
      ]
    },
    {
      "cell_type": "code",
      "metadata": {
        "id": "enNgywpt71Ob",
        "colab_type": "code",
        "colab": {
          "base_uri": "https://localhost:8080/",
          "height": 711
        },
        "outputId": "c8646fac-e476-4908-a1ec-a372564af789"
      },
      "source": [
        "# Checking to see how many unique values every feature has, especially the categorical features. Feature geo_level_3_id has a lot of unique values\n",
        "train_vals.apply(lambda x: len(x.unique()), axis=0)"
      ],
      "execution_count": 13,
      "outputs": [
        {
          "output_type": "execute_result",
          "data": {
            "text/plain": [
              "building_id                               260601\n",
              "geo_level_1_id                                31\n",
              "geo_level_2_id                              1414\n",
              "geo_level_3_id                             11595\n",
              "count_floors_pre_eq                            9\n",
              "age                                           42\n",
              "area_percentage                               84\n",
              "height_percentage                             27\n",
              "land_surface_condition                         3\n",
              "foundation_type                                5\n",
              "roof_type                                      3\n",
              "ground_floor_type                              5\n",
              "other_floor_type                               4\n",
              "position                                       4\n",
              "plan_configuration                            10\n",
              "has_superstructure_adobe_mud                   2\n",
              "has_superstructure_mud_mortar_stone            2\n",
              "has_superstructure_stone_flag                  2\n",
              "has_superstructure_cement_mortar_stone         2\n",
              "has_superstructure_mud_mortar_brick            2\n",
              "has_superstructure_cement_mortar_brick         2\n",
              "has_superstructure_timber                      2\n",
              "has_superstructure_bamboo                      2\n",
              "has_superstructure_rc_non_engineered           2\n",
              "has_superstructure_rc_engineered               2\n",
              "has_superstructure_other                       2\n",
              "legal_ownership_status                         4\n",
              "count_families                                10\n",
              "has_secondary_use                              2\n",
              "has_secondary_use_agriculture                  2\n",
              "has_secondary_use_hotel                        2\n",
              "has_secondary_use_rental                       2\n",
              "has_secondary_use_institution                  2\n",
              "has_secondary_use_school                       2\n",
              "has_secondary_use_industry                     2\n",
              "has_secondary_use_health_post                  2\n",
              "has_secondary_use_gov_office                   2\n",
              "has_secondary_use_use_police                   2\n",
              "has_secondary_use_other                        2\n",
              "dtype: int64"
            ]
          },
          "metadata": {
            "tags": []
          },
          "execution_count": 13
        }
      ]
    },
    {
      "cell_type": "code",
      "metadata": {
        "id": "gX7ef1FttpYv",
        "colab_type": "code",
        "colab": {}
      },
      "source": [
        "#Let's eliminate the building_id column since it won't be used as a feature. Let's also eliminate the geo_level_3_id variable.\n",
        "# The geo_level_3_id variable has so many unique values, one-hot encoding it could cause memory issues (and after trying it, I found\n",
        "# that it does."
      ],
      "execution_count": 0,
      "outputs": []
    },
    {
      "cell_type": "code",
      "metadata": {
        "id": "_CNbpvqut6Ee",
        "colab_type": "code",
        "outputId": "2aac6577-df87-4ca6-9a60-b83814956260",
        "colab": {
          "base_uri": "https://localhost:8080/",
          "height": 312
        }
      },
      "source": [
        "train_vals.drop(['building_id', 'geo_level_3_id'], axis=1, inplace=False).columns"
      ],
      "execution_count": 14,
      "outputs": [
        {
          "output_type": "execute_result",
          "data": {
            "text/plain": [
              "Index(['geo_level_1_id', 'geo_level_2_id', 'count_floors_pre_eq', 'age',\n",
              "       'area_percentage', 'height_percentage', 'land_surface_condition',\n",
              "       'foundation_type', 'roof_type', 'ground_floor_type', 'other_floor_type',\n",
              "       'position', 'plan_configuration', 'has_superstructure_adobe_mud',\n",
              "       'has_superstructure_mud_mortar_stone', 'has_superstructure_stone_flag',\n",
              "       'has_superstructure_cement_mortar_stone',\n",
              "       'has_superstructure_mud_mortar_brick',\n",
              "       'has_superstructure_cement_mortar_brick', 'has_superstructure_timber',\n",
              "       'has_superstructure_bamboo', 'has_superstructure_rc_non_engineered',\n",
              "       'has_superstructure_rc_engineered', 'has_superstructure_other',\n",
              "       'legal_ownership_status', 'count_families', 'has_secondary_use',\n",
              "       'has_secondary_use_agriculture', 'has_secondary_use_hotel',\n",
              "       'has_secondary_use_rental', 'has_secondary_use_institution',\n",
              "       'has_secondary_use_school', 'has_secondary_use_industry',\n",
              "       'has_secondary_use_health_post', 'has_secondary_use_gov_office',\n",
              "       'has_secondary_use_use_police', 'has_secondary_use_other'],\n",
              "      dtype='object')"
            ]
          },
          "metadata": {
            "tags": []
          },
          "execution_count": 14
        }
      ]
    },
    {
      "cell_type": "code",
      "metadata": {
        "id": "3NX-Xhq9tyAD",
        "colab_type": "code",
        "colab": {}
      },
      "source": [
        "# Creating a \"features\" dataframe to use for training\n",
        "features_to_drop = ['building_id', 'geo_level_3_id']\n",
        "train_features = train_vals.drop(features_to_drop, axis=1, inplace=False)"
      ],
      "execution_count": 0,
      "outputs": []
    },
    {
      "cell_type": "code",
      "metadata": {
        "id": "h0O4DvZp4hLT",
        "colab_type": "code",
        "colab": {}
      },
      "source": [
        "#I'm going to add the test features to the train features and one-hot encode them at the same time to make sure that all of the \n",
        "# values in the test features are represented in the one-hot encoder\n",
        "\n",
        "test_features = test_vals.drop(features_to_drop, axis=1, inplace=False)\n",
        "\n",
        "combined_features = pd.concat([train_features, test_features])"
      ],
      "execution_count": 0,
      "outputs": []
    },
    {
      "cell_type": "code",
      "metadata": {
        "id": "wYKhQo9_5HWu",
        "colab_type": "code",
        "colab": {}
      },
      "source": [
        "# Let's note the length of train_features so that we know where to split the transformed set of features\n",
        "train_length = train_features.shape[0]"
      ],
      "execution_count": 0,
      "outputs": []
    },
    {
      "cell_type": "code",
      "metadata": {
        "id": "IQ55t9_xmVGA",
        "colab_type": "code",
        "colab": {}
      },
      "source": [
        "# Fit the one-hot encoder for all categorical variables except for geo_level_3_id because of the memory issue mentioned above\n",
        "\n",
        "transformer_name = 'ohe_on_all_categorical_features'\n",
        "transformer = OneHotEncoder(sparse=False)\n",
        "columns_to_encode = ['geo_level_1_id', 'geo_level_2_id', 'land_surface_condition', 'foundation_type', 'roof_type', \n",
        "                     'ground_floor_type', 'other_floor_type', 'position', 'plan_configuration', \n",
        "                     'legal_ownership_status']\n",
        "\n",
        "ohe_final = ColumnTransformer([\n",
        "    (transformer_name, transformer, columns_to_encode)], \n",
        "    remainder='passthrough')\n",
        "\n",
        "ohe_final.fit(combined_features);"
      ],
      "execution_count": 0,
      "outputs": []
    },
    {
      "cell_type": "code",
      "metadata": {
        "id": "8eGxGlIPntGm",
        "colab_type": "code",
        "outputId": "4f1f3a8a-e301-4527-9f12-923f256aa403",
        "colab": {
          "base_uri": "https://localhost:8080/",
          "height": 35
        }
      },
      "source": [
        "# Transform the combined features using the one-hot encoder. Check shape of transformed features.\n",
        "\n",
        "combined_features_transformed = ohe_final.transform(combined_features)\n",
        "print('Shape of transformed data matrix: ', combined_features_transformed.shape)"
      ],
      "execution_count": 21,
      "outputs": [
        {
          "output_type": "stream",
          "text": [
            "Shape of transformed data matrix:  (347469, 1514)\n"
          ],
          "name": "stdout"
        }
      ]
    },
    {
      "cell_type": "code",
      "metadata": {
        "id": "7sPvxsBhrpsS",
        "colab_type": "code",
        "colab": {}
      },
      "source": [
        "# Subset the transformed features for just the training data\n",
        "\n",
        "train_features_transformed_df = pd.DataFrame(combined_features_transformed[0:260601, ])"
      ],
      "execution_count": 0,
      "outputs": []
    },
    {
      "cell_type": "code",
      "metadata": {
        "id": "Vb_-Nij_r0dk",
        "colab_type": "code",
        "outputId": "c22fc71d-7d06-4ea4-8546-e14480af25dc",
        "colab": {
          "base_uri": "https://localhost:8080/",
          "height": 251
        }
      },
      "source": [
        "# Check the transformed training features to ensure their shape and content are as expected. Nothing seems out of place\n",
        "\n",
        "train_features_transformed_df.head()"
      ],
      "execution_count": 23,
      "outputs": [
        {
          "output_type": "execute_result",
          "data": {
            "text/html": [
              "<div>\n",
              "<style scoped>\n",
              "    .dataframe tbody tr th:only-of-type {\n",
              "        vertical-align: middle;\n",
              "    }\n",
              "\n",
              "    .dataframe tbody tr th {\n",
              "        vertical-align: top;\n",
              "    }\n",
              "\n",
              "    .dataframe thead th {\n",
              "        text-align: right;\n",
              "    }\n",
              "</style>\n",
              "<table border=\"1\" class=\"dataframe\">\n",
              "  <thead>\n",
              "    <tr style=\"text-align: right;\">\n",
              "      <th></th>\n",
              "      <th>0</th>\n",
              "      <th>1</th>\n",
              "      <th>2</th>\n",
              "      <th>3</th>\n",
              "      <th>4</th>\n",
              "      <th>5</th>\n",
              "      <th>6</th>\n",
              "      <th>7</th>\n",
              "      <th>8</th>\n",
              "      <th>9</th>\n",
              "      <th>10</th>\n",
              "      <th>11</th>\n",
              "      <th>12</th>\n",
              "      <th>13</th>\n",
              "      <th>14</th>\n",
              "      <th>15</th>\n",
              "      <th>16</th>\n",
              "      <th>17</th>\n",
              "      <th>18</th>\n",
              "      <th>19</th>\n",
              "      <th>20</th>\n",
              "      <th>21</th>\n",
              "      <th>22</th>\n",
              "      <th>23</th>\n",
              "      <th>24</th>\n",
              "      <th>25</th>\n",
              "      <th>26</th>\n",
              "      <th>27</th>\n",
              "      <th>28</th>\n",
              "      <th>29</th>\n",
              "      <th>30</th>\n",
              "      <th>31</th>\n",
              "      <th>32</th>\n",
              "      <th>33</th>\n",
              "      <th>34</th>\n",
              "      <th>35</th>\n",
              "      <th>36</th>\n",
              "      <th>37</th>\n",
              "      <th>38</th>\n",
              "      <th>39</th>\n",
              "      <th>...</th>\n",
              "      <th>1474</th>\n",
              "      <th>1475</th>\n",
              "      <th>1476</th>\n",
              "      <th>1477</th>\n",
              "      <th>1478</th>\n",
              "      <th>1479</th>\n",
              "      <th>1480</th>\n",
              "      <th>1481</th>\n",
              "      <th>1482</th>\n",
              "      <th>1483</th>\n",
              "      <th>1484</th>\n",
              "      <th>1485</th>\n",
              "      <th>1486</th>\n",
              "      <th>1487</th>\n",
              "      <th>1488</th>\n",
              "      <th>1489</th>\n",
              "      <th>1490</th>\n",
              "      <th>1491</th>\n",
              "      <th>1492</th>\n",
              "      <th>1493</th>\n",
              "      <th>1494</th>\n",
              "      <th>1495</th>\n",
              "      <th>1496</th>\n",
              "      <th>1497</th>\n",
              "      <th>1498</th>\n",
              "      <th>1499</th>\n",
              "      <th>1500</th>\n",
              "      <th>1501</th>\n",
              "      <th>1502</th>\n",
              "      <th>1503</th>\n",
              "      <th>1504</th>\n",
              "      <th>1505</th>\n",
              "      <th>1506</th>\n",
              "      <th>1507</th>\n",
              "      <th>1508</th>\n",
              "      <th>1509</th>\n",
              "      <th>1510</th>\n",
              "      <th>1511</th>\n",
              "      <th>1512</th>\n",
              "      <th>1513</th>\n",
              "    </tr>\n",
              "  </thead>\n",
              "  <tbody>\n",
              "    <tr>\n",
              "      <th>0</th>\n",
              "      <td>0.0</td>\n",
              "      <td>0.0</td>\n",
              "      <td>0.0</td>\n",
              "      <td>0.0</td>\n",
              "      <td>0.0</td>\n",
              "      <td>0.0</td>\n",
              "      <td>1.0</td>\n",
              "      <td>0.0</td>\n",
              "      <td>0.0</td>\n",
              "      <td>0.0</td>\n",
              "      <td>0.0</td>\n",
              "      <td>0.0</td>\n",
              "      <td>0.0</td>\n",
              "      <td>0.0</td>\n",
              "      <td>0.0</td>\n",
              "      <td>0.0</td>\n",
              "      <td>0.0</td>\n",
              "      <td>0.0</td>\n",
              "      <td>0.0</td>\n",
              "      <td>0.0</td>\n",
              "      <td>0.0</td>\n",
              "      <td>0.0</td>\n",
              "      <td>0.0</td>\n",
              "      <td>0.0</td>\n",
              "      <td>0.0</td>\n",
              "      <td>0.0</td>\n",
              "      <td>0.0</td>\n",
              "      <td>0.0</td>\n",
              "      <td>0.0</td>\n",
              "      <td>0.0</td>\n",
              "      <td>0.0</td>\n",
              "      <td>0.0</td>\n",
              "      <td>0.0</td>\n",
              "      <td>0.0</td>\n",
              "      <td>0.0</td>\n",
              "      <td>0.0</td>\n",
              "      <td>0.0</td>\n",
              "      <td>0.0</td>\n",
              "      <td>0.0</td>\n",
              "      <td>0.0</td>\n",
              "      <td>...</td>\n",
              "      <td>0.0</td>\n",
              "      <td>1.0</td>\n",
              "      <td>0.0</td>\n",
              "      <td>0.0</td>\n",
              "      <td>0.0</td>\n",
              "      <td>0.0</td>\n",
              "      <td>0.0</td>\n",
              "      <td>0.0</td>\n",
              "      <td>0.0</td>\n",
              "      <td>0.0</td>\n",
              "      <td>0.0</td>\n",
              "      <td>1.0</td>\n",
              "      <td>0.0</td>\n",
              "      <td>2.0</td>\n",
              "      <td>30.0</td>\n",
              "      <td>6.0</td>\n",
              "      <td>5.0</td>\n",
              "      <td>1.0</td>\n",
              "      <td>1.0</td>\n",
              "      <td>0.0</td>\n",
              "      <td>0.0</td>\n",
              "      <td>0.0</td>\n",
              "      <td>0.0</td>\n",
              "      <td>0.0</td>\n",
              "      <td>0.0</td>\n",
              "      <td>0.0</td>\n",
              "      <td>0.0</td>\n",
              "      <td>0.0</td>\n",
              "      <td>1.0</td>\n",
              "      <td>0.0</td>\n",
              "      <td>0.0</td>\n",
              "      <td>0.0</td>\n",
              "      <td>0.0</td>\n",
              "      <td>0.0</td>\n",
              "      <td>0.0</td>\n",
              "      <td>0.0</td>\n",
              "      <td>0.0</td>\n",
              "      <td>0.0</td>\n",
              "      <td>0.0</td>\n",
              "      <td>0.0</td>\n",
              "    </tr>\n",
              "    <tr>\n",
              "      <th>1</th>\n",
              "      <td>0.0</td>\n",
              "      <td>0.0</td>\n",
              "      <td>0.0</td>\n",
              "      <td>0.0</td>\n",
              "      <td>0.0</td>\n",
              "      <td>0.0</td>\n",
              "      <td>0.0</td>\n",
              "      <td>0.0</td>\n",
              "      <td>1.0</td>\n",
              "      <td>0.0</td>\n",
              "      <td>0.0</td>\n",
              "      <td>0.0</td>\n",
              "      <td>0.0</td>\n",
              "      <td>0.0</td>\n",
              "      <td>0.0</td>\n",
              "      <td>0.0</td>\n",
              "      <td>0.0</td>\n",
              "      <td>0.0</td>\n",
              "      <td>0.0</td>\n",
              "      <td>0.0</td>\n",
              "      <td>0.0</td>\n",
              "      <td>0.0</td>\n",
              "      <td>0.0</td>\n",
              "      <td>0.0</td>\n",
              "      <td>0.0</td>\n",
              "      <td>0.0</td>\n",
              "      <td>0.0</td>\n",
              "      <td>0.0</td>\n",
              "      <td>0.0</td>\n",
              "      <td>0.0</td>\n",
              "      <td>0.0</td>\n",
              "      <td>0.0</td>\n",
              "      <td>0.0</td>\n",
              "      <td>0.0</td>\n",
              "      <td>0.0</td>\n",
              "      <td>0.0</td>\n",
              "      <td>0.0</td>\n",
              "      <td>0.0</td>\n",
              "      <td>0.0</td>\n",
              "      <td>0.0</td>\n",
              "      <td>...</td>\n",
              "      <td>0.0</td>\n",
              "      <td>1.0</td>\n",
              "      <td>0.0</td>\n",
              "      <td>0.0</td>\n",
              "      <td>0.0</td>\n",
              "      <td>0.0</td>\n",
              "      <td>0.0</td>\n",
              "      <td>0.0</td>\n",
              "      <td>0.0</td>\n",
              "      <td>0.0</td>\n",
              "      <td>0.0</td>\n",
              "      <td>1.0</td>\n",
              "      <td>0.0</td>\n",
              "      <td>2.0</td>\n",
              "      <td>10.0</td>\n",
              "      <td>8.0</td>\n",
              "      <td>7.0</td>\n",
              "      <td>0.0</td>\n",
              "      <td>1.0</td>\n",
              "      <td>0.0</td>\n",
              "      <td>0.0</td>\n",
              "      <td>0.0</td>\n",
              "      <td>0.0</td>\n",
              "      <td>0.0</td>\n",
              "      <td>0.0</td>\n",
              "      <td>0.0</td>\n",
              "      <td>0.0</td>\n",
              "      <td>0.0</td>\n",
              "      <td>1.0</td>\n",
              "      <td>0.0</td>\n",
              "      <td>0.0</td>\n",
              "      <td>0.0</td>\n",
              "      <td>0.0</td>\n",
              "      <td>0.0</td>\n",
              "      <td>0.0</td>\n",
              "      <td>0.0</td>\n",
              "      <td>0.0</td>\n",
              "      <td>0.0</td>\n",
              "      <td>0.0</td>\n",
              "      <td>0.0</td>\n",
              "    </tr>\n",
              "    <tr>\n",
              "      <th>2</th>\n",
              "      <td>0.0</td>\n",
              "      <td>0.0</td>\n",
              "      <td>0.0</td>\n",
              "      <td>0.0</td>\n",
              "      <td>0.0</td>\n",
              "      <td>0.0</td>\n",
              "      <td>0.0</td>\n",
              "      <td>0.0</td>\n",
              "      <td>0.0</td>\n",
              "      <td>0.0</td>\n",
              "      <td>0.0</td>\n",
              "      <td>0.0</td>\n",
              "      <td>0.0</td>\n",
              "      <td>0.0</td>\n",
              "      <td>0.0</td>\n",
              "      <td>0.0</td>\n",
              "      <td>0.0</td>\n",
              "      <td>0.0</td>\n",
              "      <td>0.0</td>\n",
              "      <td>0.0</td>\n",
              "      <td>0.0</td>\n",
              "      <td>1.0</td>\n",
              "      <td>0.0</td>\n",
              "      <td>0.0</td>\n",
              "      <td>0.0</td>\n",
              "      <td>0.0</td>\n",
              "      <td>0.0</td>\n",
              "      <td>0.0</td>\n",
              "      <td>0.0</td>\n",
              "      <td>0.0</td>\n",
              "      <td>0.0</td>\n",
              "      <td>0.0</td>\n",
              "      <td>0.0</td>\n",
              "      <td>0.0</td>\n",
              "      <td>0.0</td>\n",
              "      <td>0.0</td>\n",
              "      <td>0.0</td>\n",
              "      <td>0.0</td>\n",
              "      <td>0.0</td>\n",
              "      <td>0.0</td>\n",
              "      <td>...</td>\n",
              "      <td>0.0</td>\n",
              "      <td>1.0</td>\n",
              "      <td>0.0</td>\n",
              "      <td>0.0</td>\n",
              "      <td>0.0</td>\n",
              "      <td>0.0</td>\n",
              "      <td>0.0</td>\n",
              "      <td>0.0</td>\n",
              "      <td>0.0</td>\n",
              "      <td>0.0</td>\n",
              "      <td>0.0</td>\n",
              "      <td>1.0</td>\n",
              "      <td>0.0</td>\n",
              "      <td>2.0</td>\n",
              "      <td>10.0</td>\n",
              "      <td>5.0</td>\n",
              "      <td>5.0</td>\n",
              "      <td>0.0</td>\n",
              "      <td>1.0</td>\n",
              "      <td>0.0</td>\n",
              "      <td>0.0</td>\n",
              "      <td>0.0</td>\n",
              "      <td>0.0</td>\n",
              "      <td>0.0</td>\n",
              "      <td>0.0</td>\n",
              "      <td>0.0</td>\n",
              "      <td>0.0</td>\n",
              "      <td>0.0</td>\n",
              "      <td>1.0</td>\n",
              "      <td>0.0</td>\n",
              "      <td>0.0</td>\n",
              "      <td>0.0</td>\n",
              "      <td>0.0</td>\n",
              "      <td>0.0</td>\n",
              "      <td>0.0</td>\n",
              "      <td>0.0</td>\n",
              "      <td>0.0</td>\n",
              "      <td>0.0</td>\n",
              "      <td>0.0</td>\n",
              "      <td>0.0</td>\n",
              "    </tr>\n",
              "    <tr>\n",
              "      <th>3</th>\n",
              "      <td>0.0</td>\n",
              "      <td>0.0</td>\n",
              "      <td>0.0</td>\n",
              "      <td>0.0</td>\n",
              "      <td>0.0</td>\n",
              "      <td>0.0</td>\n",
              "      <td>0.0</td>\n",
              "      <td>0.0</td>\n",
              "      <td>0.0</td>\n",
              "      <td>0.0</td>\n",
              "      <td>0.0</td>\n",
              "      <td>0.0</td>\n",
              "      <td>0.0</td>\n",
              "      <td>0.0</td>\n",
              "      <td>0.0</td>\n",
              "      <td>0.0</td>\n",
              "      <td>0.0</td>\n",
              "      <td>0.0</td>\n",
              "      <td>0.0</td>\n",
              "      <td>0.0</td>\n",
              "      <td>0.0</td>\n",
              "      <td>0.0</td>\n",
              "      <td>1.0</td>\n",
              "      <td>0.0</td>\n",
              "      <td>0.0</td>\n",
              "      <td>0.0</td>\n",
              "      <td>0.0</td>\n",
              "      <td>0.0</td>\n",
              "      <td>0.0</td>\n",
              "      <td>0.0</td>\n",
              "      <td>0.0</td>\n",
              "      <td>0.0</td>\n",
              "      <td>0.0</td>\n",
              "      <td>0.0</td>\n",
              "      <td>0.0</td>\n",
              "      <td>0.0</td>\n",
              "      <td>0.0</td>\n",
              "      <td>0.0</td>\n",
              "      <td>0.0</td>\n",
              "      <td>0.0</td>\n",
              "      <td>...</td>\n",
              "      <td>0.0</td>\n",
              "      <td>1.0</td>\n",
              "      <td>0.0</td>\n",
              "      <td>0.0</td>\n",
              "      <td>0.0</td>\n",
              "      <td>0.0</td>\n",
              "      <td>0.0</td>\n",
              "      <td>0.0</td>\n",
              "      <td>0.0</td>\n",
              "      <td>0.0</td>\n",
              "      <td>0.0</td>\n",
              "      <td>1.0</td>\n",
              "      <td>0.0</td>\n",
              "      <td>2.0</td>\n",
              "      <td>10.0</td>\n",
              "      <td>6.0</td>\n",
              "      <td>5.0</td>\n",
              "      <td>0.0</td>\n",
              "      <td>1.0</td>\n",
              "      <td>0.0</td>\n",
              "      <td>0.0</td>\n",
              "      <td>0.0</td>\n",
              "      <td>0.0</td>\n",
              "      <td>1.0</td>\n",
              "      <td>1.0</td>\n",
              "      <td>0.0</td>\n",
              "      <td>0.0</td>\n",
              "      <td>0.0</td>\n",
              "      <td>1.0</td>\n",
              "      <td>0.0</td>\n",
              "      <td>0.0</td>\n",
              "      <td>0.0</td>\n",
              "      <td>0.0</td>\n",
              "      <td>0.0</td>\n",
              "      <td>0.0</td>\n",
              "      <td>0.0</td>\n",
              "      <td>0.0</td>\n",
              "      <td>0.0</td>\n",
              "      <td>0.0</td>\n",
              "      <td>0.0</td>\n",
              "    </tr>\n",
              "    <tr>\n",
              "      <th>4</th>\n",
              "      <td>0.0</td>\n",
              "      <td>0.0</td>\n",
              "      <td>0.0</td>\n",
              "      <td>0.0</td>\n",
              "      <td>0.0</td>\n",
              "      <td>0.0</td>\n",
              "      <td>0.0</td>\n",
              "      <td>0.0</td>\n",
              "      <td>0.0</td>\n",
              "      <td>0.0</td>\n",
              "      <td>0.0</td>\n",
              "      <td>1.0</td>\n",
              "      <td>0.0</td>\n",
              "      <td>0.0</td>\n",
              "      <td>0.0</td>\n",
              "      <td>0.0</td>\n",
              "      <td>0.0</td>\n",
              "      <td>0.0</td>\n",
              "      <td>0.0</td>\n",
              "      <td>0.0</td>\n",
              "      <td>0.0</td>\n",
              "      <td>0.0</td>\n",
              "      <td>0.0</td>\n",
              "      <td>0.0</td>\n",
              "      <td>0.0</td>\n",
              "      <td>0.0</td>\n",
              "      <td>0.0</td>\n",
              "      <td>0.0</td>\n",
              "      <td>0.0</td>\n",
              "      <td>0.0</td>\n",
              "      <td>0.0</td>\n",
              "      <td>0.0</td>\n",
              "      <td>0.0</td>\n",
              "      <td>0.0</td>\n",
              "      <td>0.0</td>\n",
              "      <td>0.0</td>\n",
              "      <td>0.0</td>\n",
              "      <td>0.0</td>\n",
              "      <td>0.0</td>\n",
              "      <td>0.0</td>\n",
              "      <td>...</td>\n",
              "      <td>0.0</td>\n",
              "      <td>1.0</td>\n",
              "      <td>0.0</td>\n",
              "      <td>0.0</td>\n",
              "      <td>0.0</td>\n",
              "      <td>0.0</td>\n",
              "      <td>0.0</td>\n",
              "      <td>0.0</td>\n",
              "      <td>0.0</td>\n",
              "      <td>0.0</td>\n",
              "      <td>0.0</td>\n",
              "      <td>1.0</td>\n",
              "      <td>0.0</td>\n",
              "      <td>3.0</td>\n",
              "      <td>30.0</td>\n",
              "      <td>8.0</td>\n",
              "      <td>9.0</td>\n",
              "      <td>1.0</td>\n",
              "      <td>0.0</td>\n",
              "      <td>0.0</td>\n",
              "      <td>0.0</td>\n",
              "      <td>0.0</td>\n",
              "      <td>0.0</td>\n",
              "      <td>0.0</td>\n",
              "      <td>0.0</td>\n",
              "      <td>0.0</td>\n",
              "      <td>0.0</td>\n",
              "      <td>0.0</td>\n",
              "      <td>1.0</td>\n",
              "      <td>0.0</td>\n",
              "      <td>0.0</td>\n",
              "      <td>0.0</td>\n",
              "      <td>0.0</td>\n",
              "      <td>0.0</td>\n",
              "      <td>0.0</td>\n",
              "      <td>0.0</td>\n",
              "      <td>0.0</td>\n",
              "      <td>0.0</td>\n",
              "      <td>0.0</td>\n",
              "      <td>0.0</td>\n",
              "    </tr>\n",
              "  </tbody>\n",
              "</table>\n",
              "<p>5 rows × 1514 columns</p>\n",
              "</div>"
            ],
            "text/plain": [
              "   0     1     2     3     4     5     ...  1508  1509  1510  1511  1512  1513\n",
              "0   0.0   0.0   0.0   0.0   0.0   0.0  ...   0.0   0.0   0.0   0.0   0.0   0.0\n",
              "1   0.0   0.0   0.0   0.0   0.0   0.0  ...   0.0   0.0   0.0   0.0   0.0   0.0\n",
              "2   0.0   0.0   0.0   0.0   0.0   0.0  ...   0.0   0.0   0.0   0.0   0.0   0.0\n",
              "3   0.0   0.0   0.0   0.0   0.0   0.0  ...   0.0   0.0   0.0   0.0   0.0   0.0\n",
              "4   0.0   0.0   0.0   0.0   0.0   0.0  ...   0.0   0.0   0.0   0.0   0.0   0.0\n",
              "\n",
              "[5 rows x 1514 columns]"
            ]
          },
          "metadata": {
            "tags": []
          },
          "execution_count": 23
        }
      ]
    },
    {
      "cell_type": "code",
      "metadata": {
        "id": "bgek0hTI6Uiy",
        "colab_type": "code",
        "outputId": "8fb68cd6-5518-41d8-ad4a-a79f18a305d1",
        "colab": {
          "base_uri": "https://localhost:8080/",
          "height": 35
        }
      },
      "source": [
        "# Check the shape of the transformed training features to ensure they align to expectations. They do: their length is the same as the\n",
        "# original training dataframe and the width is the same as the transformed features dataframe\n",
        "\n",
        "train_features_transformed_df.shape"
      ],
      "execution_count": 0,
      "outputs": [
        {
          "output_type": "execute_result",
          "data": {
            "text/plain": [
              "(260601, 1514)"
            ]
          },
          "metadata": {
            "tags": []
          },
          "execution_count": 22
        }
      ]
    },
    {
      "cell_type": "code",
      "metadata": {
        "id": "ApUJG2jP6Xs7",
        "colab_type": "code",
        "colab": {
          "base_uri": "https://localhost:8080/",
          "height": 35
        },
        "outputId": "3b21b174-efac-4dc5-e0bf-45b74e45215e"
      },
      "source": [
        "# Subset the transformed test features and check their shape. Their shape looks good.\n",
        "\n",
        "test_features_transformed_df = pd.DataFrame(combined_features_transformed[260601:, ])\n",
        "\n",
        "test_features_transformed_df.shape"
      ],
      "execution_count": 24,
      "outputs": [
        {
          "output_type": "execute_result",
          "data": {
            "text/plain": [
              "(86868, 1514)"
            ]
          },
          "metadata": {
            "tags": []
          },
          "execution_count": 24
        }
      ]
    },
    {
      "cell_type": "code",
      "metadata": {
        "id": "1rPe2VAhtKxW",
        "colab_type": "code",
        "outputId": "35a28175-f536-4c50-c580-eea4265fb25a",
        "colab": {
          "base_uri": "https://localhost:8080/",
          "height": 52
        }
      },
      "source": [
        "# During experimentation, I took a random sample of training data to work with in order to shorten the cycle time of my model trainings.\n",
        "# We don't need this block of code for the final solution, but I thought it was worth mentioning that I did this when creating the solution.\n",
        "\n",
        "'''# Let's take a random sample of the data to speed up the training-feedback cycle.\n",
        "\n",
        "train_features_transformed_df_labs = pd.concat([train_features_transformed_df, train_labs['damage_grade']], axis=1)\n",
        "train_features_transformed_df_labs.shape\n",
        "\n",
        "train_features_transformed_df_sample = train_features_transformed_df_labs.sample(frac=.01, random_state=42)\n",
        "train_features_transformed_df_sample.shape\n",
        "\n",
        "train_labs_sample = train_features_transformed_df_sample['damage_grade']\n",
        "train_features_transformed_df_sample.drop(['damage_grade'], axis=1, inplace=True)\n",
        "print(train_labs_sample.shape)\n",
        "print(train_features_transformed_df_sample.shape)'''"
      ],
      "execution_count": 0,
      "outputs": [
        {
          "output_type": "stream",
          "text": [
            "(2606,)\n",
            "(2606, 1514)\n"
          ],
          "name": "stdout"
        }
      ]
    },
    {
      "cell_type": "code",
      "metadata": {
        "id": "ycGItVcNxssa",
        "colab_type": "code",
        "colab": {}
      },
      "source": [
        "# Now let's split our transformed training features and the corresponding labels into a train and test set.\n",
        "\n",
        "#X_train, X_test, y_train, y_test = train_test_split(train_features_transformed_df_sample, train_labs_sample, test_size=0.2, random_state=42)\n",
        "X_train, X_test, y_train, y_test = train_test_split(train_features_transformed_df, train_labs['damage_grade'], test_size=0.2, random_state=42)"
      ],
      "execution_count": 0,
      "outputs": []
    },
    {
      "cell_type": "code",
      "metadata": {
        "id": "zgph14xryNzn",
        "colab_type": "code",
        "outputId": "a93a899d-8543-41fc-f337-d73e433dc7f3",
        "colab": {
          "base_uri": "https://localhost:8080/",
          "height": 156
        }
      },
      "source": [
        "# Let's check to see that the split worked and we have 80% of the training features in the train set and 20% in the test set\n",
        "\n",
        "print(\"Shape of the complete data set:\", train_features_transformed_df.shape)\n",
        "print(\"Shape of the train data set:\", X_train.shape)\n",
        "print(\"Shape of the test data set:\", X_test.shape)\n",
        "\n",
        "print(\"\\n\\nShape of the complete data labels:\", train_labs['damage_grade'].shape)\n",
        "print(\"Shape of the train data labels:\", y_train.shape)\n",
        "print(\"Shape of the test data labels:\", y_test.shape)"
      ],
      "execution_count": 30,
      "outputs": [
        {
          "output_type": "stream",
          "text": [
            "Shape of the complete data set: (260601, 1514)\n",
            "Shape of the train data set: (208480, 1514)\n",
            "Shape of the test data set: (52121, 1514)\n",
            "\n",
            "\n",
            "Shape of the complete data labels: (260601,)\n",
            "Shape of the train data labels: (208480,)\n",
            "Shape of the test data labels: (52121,)\n"
          ],
          "name": "stdout"
        }
      ]
    },
    {
      "cell_type": "code",
      "metadata": {
        "id": "5WPx9RrbNBgn",
        "colab_type": "code",
        "colab": {}
      },
      "source": [
        "# Let's now build some functions to make it easier to evaluate the performance of the models we build.\n",
        "# My best solution used a single XGBRegressor to make continuous predictions from 1 to 3 for individual data points.\n",
        "# I then take those regression scores and manually determine the optimal thresholds between the three categories of damage: 1, 2, 3.\n",
        "# My model evaluation function reflects this process.\n",
        "# The specific performance metric for the model was given by the competition, and it's the F1 score.\n",
        "\n",
        "def model_evaluation(model, X, y_true):\n",
        "    y_labels = model.predict(X)\n",
        "    y_labels_df = pd.DataFrame(y_labels)\n",
        "    y_labels_df['damage_grade'] = 2\n",
        "    y_labels_df.loc[y_labels_df[0] < 1.6, 'damage_grade'] = 1\n",
        "    y_labels_df.loc[y_labels_df[0] > 2.46, 'damage_grade'] = 3\n",
        "    y_labels_df['count'] = 1\n",
        "    predictions_pivot = y_labels_df.groupby(['damage_grade']).count()\n",
        "    predictions_pivot['percentage'] = predictions_pivot['count']/predictions_pivot['count'].sum()\n",
        "    scores = {}\n",
        "    scores['f1_score'] = f1_score(y_true, y_labels_df['damage_grade'], average='micro')\n",
        "    return scores, predictions_pivot, y_labels_df['damage_grade']\n",
        "\n",
        "def print_model_evaluation(model_name, scores, pivot):\n",
        "    print('{} evaluation \\n'.format(model_name))\n",
        "    for metric, score in scores.items():\n",
        "        print('Test {}: {}'.format(metric, score))\n",
        "        print(pivot)"
      ],
      "execution_count": 0,
      "outputs": []
    },
    {
      "cell_type": "code",
      "metadata": {
        "id": "6SU5IhEu_RgQ",
        "colab_type": "code",
        "colab": {}
      },
      "source": [
        "# Before training my first model, I know that the proportions of the damage categories in the training data will be an important guide in\n",
        "# determining the overall performance of the model. I create a function to give the proportion of damage categories in any set of damage labels\n",
        "# below.\n",
        "\n",
        "def createClassPivot(labels):\n",
        "  \n",
        "  labels_df = pd.DataFrame(labels)\n",
        "  labels_df['count'] = 1\n",
        "  labels_pivot = labels_df.groupby(['damage_grade']).count()\n",
        "  labels_pivot['percentage'] = labels_pivot['count']/labels_pivot['count'].sum()\n",
        "\n",
        "  return labels_pivot"
      ],
      "execution_count": 0,
      "outputs": []
    },
    {
      "cell_type": "code",
      "metadata": {
        "id": "gKgOvAGWAL-L",
        "colab_type": "code",
        "outputId": "1da34f36-4d0c-4cf7-f53d-638161d115b1",
        "colab": {
          "base_uri": "https://localhost:8080/",
          "height": 171
        }
      },
      "source": [
        "# Below we can see that the three classes are skewed towards damage_grade 2 (56% of data points), followed by damage_grade 3 (33%)\n",
        "# and finally damage_grade 1 (9%). We will need to check that the output of our model is performing high on its F1 score, but that\n",
        "# it also conforms roughly to the proportions below.\n",
        "\n",
        "train_labs_test = createClassPivot(train_labs)\n",
        "train_labs_test"
      ],
      "execution_count": 34,
      "outputs": [
        {
          "output_type": "execute_result",
          "data": {
            "text/html": [
              "<div>\n",
              "<style scoped>\n",
              "    .dataframe tbody tr th:only-of-type {\n",
              "        vertical-align: middle;\n",
              "    }\n",
              "\n",
              "    .dataframe tbody tr th {\n",
              "        vertical-align: top;\n",
              "    }\n",
              "\n",
              "    .dataframe thead th {\n",
              "        text-align: right;\n",
              "    }\n",
              "</style>\n",
              "<table border=\"1\" class=\"dataframe\">\n",
              "  <thead>\n",
              "    <tr style=\"text-align: right;\">\n",
              "      <th></th>\n",
              "      <th>building_id</th>\n",
              "      <th>count</th>\n",
              "      <th>percentage</th>\n",
              "    </tr>\n",
              "    <tr>\n",
              "      <th>damage_grade</th>\n",
              "      <th></th>\n",
              "      <th></th>\n",
              "      <th></th>\n",
              "    </tr>\n",
              "  </thead>\n",
              "  <tbody>\n",
              "    <tr>\n",
              "      <th>1</th>\n",
              "      <td>25124</td>\n",
              "      <td>25124</td>\n",
              "      <td>0.096408</td>\n",
              "    </tr>\n",
              "    <tr>\n",
              "      <th>2</th>\n",
              "      <td>148259</td>\n",
              "      <td>148259</td>\n",
              "      <td>0.568912</td>\n",
              "    </tr>\n",
              "    <tr>\n",
              "      <th>3</th>\n",
              "      <td>87218</td>\n",
              "      <td>87218</td>\n",
              "      <td>0.334680</td>\n",
              "    </tr>\n",
              "  </tbody>\n",
              "</table>\n",
              "</div>"
            ],
            "text/plain": [
              "              building_id   count  percentage\n",
              "damage_grade                                 \n",
              "1                   25124   25124    0.096408\n",
              "2                  148259  148259    0.568912\n",
              "3                   87218   87218    0.334680"
            ]
          },
          "metadata": {
            "tags": []
          },
          "execution_count": 34
        }
      ]
    },
    {
      "cell_type": "code",
      "metadata": {
        "id": "QjXTMTv5rT3H",
        "colab_type": "code",
        "outputId": "c5b2d30e-38d8-4d74-cf8e-fd6c4c599832",
        "colab": {
          "base_uri": "https://localhost:8080/",
          "height": 503
        }
      },
      "source": [
        "# Here we create our training pipeline with an XGBRegressor and a gridsearcher. I've already input the optimal hyperparameters for the model\n",
        "\n",
        "classifier_pipe = Pipeline([('gb', XGBRegressor(random_state=42, objective='reg:squarederror', n_estimators=100 , booster='gbtree', reg_lambda=1, reg_alpha=0))])\n",
        "\n",
        "classifier_gs = GridSearchCV(classifier_pipe, \n",
        "                     cv=5, \n",
        "                     param_grid={'gb__max_depth': [6],\n",
        "                                  'gb__learning_rate': [0.3],\n",
        "                                 'gb__tree_method': ['hist']\n",
        "                    }\n",
        "                    )\n",
        "classifier_gs.fit(X_train, y_train)\n",
        "\n",
        "\n",
        "# I print the model's performance on the training set to see how well I am fitting the model to the train data\n",
        "\n",
        "classifier_gs_scores_train, pivot_train, model_labels_train = model_evaluation(classifier_gs, X_train, y_train)\n",
        "print_model_evaluation('XGBoost', classifier_gs_scores_train, pivot_train)\n",
        "\n",
        "# I print the model's performance on the test set to see how well it generalizes to new data. The balance between train set performance\n",
        "# and test set performance shows whether I am over- or underfitting the model\n",
        "\n",
        "classifier_gs_scores_test, pivot_test, model_labels_test = model_evaluation(classifier_gs, X_test, y_test)\n",
        "print_model_evaluation('XGBoost', classifier_gs_scores_test, pivot_test)"
      ],
      "execution_count": 35,
      "outputs": [
        {
          "output_type": "stream",
          "text": [
            "/usr/local/lib/python3.6/dist-packages/xgboost/core.py:587: FutureWarning: Series.base is deprecated and will be removed in a future version\n",
            "  if getattr(data, 'base', None) is not None and \\\n",
            "/usr/local/lib/python3.6/dist-packages/xgboost/core.py:587: FutureWarning: Series.base is deprecated and will be removed in a future version\n",
            "  if getattr(data, 'base', None) is not None and \\\n",
            "/usr/local/lib/python3.6/dist-packages/xgboost/core.py:587: FutureWarning: Series.base is deprecated and will be removed in a future version\n",
            "  if getattr(data, 'base', None) is not None and \\\n",
            "/usr/local/lib/python3.6/dist-packages/xgboost/core.py:587: FutureWarning: Series.base is deprecated and will be removed in a future version\n",
            "  if getattr(data, 'base', None) is not None and \\\n",
            "/usr/local/lib/python3.6/dist-packages/xgboost/core.py:587: FutureWarning: Series.base is deprecated and will be removed in a future version\n",
            "  if getattr(data, 'base', None) is not None and \\\n",
            "/usr/local/lib/python3.6/dist-packages/xgboost/core.py:587: FutureWarning: Series.base is deprecated and will be removed in a future version\n",
            "  if getattr(data, 'base', None) is not None and \\\n"
          ],
          "name": "stderr"
        },
        {
          "output_type": "stream",
          "text": [
            "XGBoost evaluation \n",
            "\n",
            "Test f1_score: 0.7259401381427475\n",
            "                   0   count  percentage\n",
            "damage_grade                            \n",
            "1              14636   14636    0.070203\n",
            "2             137621  137621    0.660116\n",
            "3              56223   56223    0.269681\n",
            "XGBoost evaluation \n",
            "\n",
            "Test f1_score: 0.7175035014677386\n",
            "                  0  count  percentage\n",
            "damage_grade                          \n",
            "1              3672   3672    0.070451\n",
            "2             34507  34507    0.662056\n",
            "3             13942  13942    0.267493\n"
          ],
          "name": "stdout"
        }
      ]
    },
    {
      "cell_type": "code",
      "metadata": {
        "id": "8EFWdGN8DHja",
        "colab_type": "code",
        "colab": {}
      },
      "source": [
        "# The results above do not indicate overfitting, which is good. As mentioned before, these are my best scores in any case.\n",
        "# The results of my model however do show that my model is producing predictions in proportions that are out of balance with the\n",
        "# proportions of predictions in the training data. My predictions for damage_grade 1 and 3 are too low. The model is over-predicting\n",
        "# damage_grade 2."
      ],
      "execution_count": 0,
      "outputs": []
    },
    {
      "cell_type": "code",
      "metadata": {
        "id": "qpju6NQ06u4-",
        "colab_type": "code",
        "colab": {}
      },
      "source": [
        "# Now let's look at a confusion matrix of my predictions and the actual damage_grade labels to see where my model is weakest\n",
        "\n",
        "conf_m = pd.DataFrame(confusion_matrix(y_test, model_labels_test),\n",
        "             index = ['class 1 actual', 'class 2 actual', 'class 3 actual'],\n",
        "             columns = ['class 1 pred', 'class 2 pred', 'class 3 pred'])"
      ],
      "execution_count": 0,
      "outputs": []
    },
    {
      "cell_type": "code",
      "metadata": {
        "id": "voUpK1Tq7--1",
        "colab_type": "code",
        "outputId": "becfac43-975c-4f7c-e00d-0a5ebf940720",
        "colab": {
          "base_uri": "https://localhost:8080/",
          "height": 141
        }
      },
      "source": [
        "conf_m"
      ],
      "execution_count": 38,
      "outputs": [
        {
          "output_type": "execute_result",
          "data": {
            "text/html": [
              "<div>\n",
              "<style scoped>\n",
              "    .dataframe tbody tr th:only-of-type {\n",
              "        vertical-align: middle;\n",
              "    }\n",
              "\n",
              "    .dataframe tbody tr th {\n",
              "        vertical-align: top;\n",
              "    }\n",
              "\n",
              "    .dataframe thead th {\n",
              "        text-align: right;\n",
              "    }\n",
              "</style>\n",
              "<table border=\"1\" class=\"dataframe\">\n",
              "  <thead>\n",
              "    <tr style=\"text-align: right;\">\n",
              "      <th></th>\n",
              "      <th>class 1 pred</th>\n",
              "      <th>class 2 pred</th>\n",
              "      <th>class 3 pred</th>\n",
              "    </tr>\n",
              "  </thead>\n",
              "  <tbody>\n",
              "    <tr>\n",
              "      <th>class 1 actual</th>\n",
              "      <td>2406</td>\n",
              "      <td>2726</td>\n",
              "      <td>38</td>\n",
              "    </tr>\n",
              "    <tr>\n",
              "      <th>class 2 actual</th>\n",
              "      <td>1224</td>\n",
              "      <td>24675</td>\n",
              "      <td>3588</td>\n",
              "    </tr>\n",
              "    <tr>\n",
              "      <th>class 3 actual</th>\n",
              "      <td>42</td>\n",
              "      <td>7106</td>\n",
              "      <td>10316</td>\n",
              "    </tr>\n",
              "  </tbody>\n",
              "</table>\n",
              "</div>"
            ],
            "text/plain": [
              "                class 1 pred  class 2 pred  class 3 pred\n",
              "class 1 actual          2406          2726            38\n",
              "class 2 actual          1224         24675          3588\n",
              "class 3 actual            42          7106         10316"
            ]
          },
          "metadata": {
            "tags": []
          },
          "execution_count": 38
        }
      ]
    },
    {
      "cell_type": "code",
      "metadata": {
        "id": "qQDQXMYe75oh",
        "colab_type": "code",
        "outputId": "f181ecf2-682b-40a2-8074-111a7273827d",
        "colab": {
          "base_uri": "https://localhost:8080/",
          "height": 104
        }
      },
      "source": [
        "# It will help to divide the values in the confusion matrix by the totals for my class predictions to see the precision of my scores.\n",
        "# Precision ranges from 66% to 74%, which isn't horrible given that the winning score for this competition is ~75%. It is weakest for \n",
        "# damage_grade 1 (65%).\n",
        "\n",
        "print('Precision')\n",
        "print(conf_m/conf_m.sum(axis=0))"
      ],
      "execution_count": 0,
      "outputs": [
        {
          "output_type": "stream",
          "text": [
            "Precision\n",
            "                class 1 pred  class 2 pred  class 3 pred\n",
            "class 1 actual      0.655229      0.078998      0.002726\n",
            "class 2 actual      0.333333      0.715072      0.257352\n",
            "class 3 actual      0.011438      0.205929      0.739923\n"
          ],
          "name": "stdout"
        }
      ]
    },
    {
      "cell_type": "code",
      "metadata": {
        "id": "Eo1mTNfF9jXF",
        "colab_type": "code",
        "outputId": "524a299a-1698-4ea4-ec02-3fa52a941bb7",
        "colab": {
          "base_uri": "https://localhost:8080/",
          "height": 104
        }
      },
      "source": [
        "# It will also help to divide the values in the confusion matrix by the total count for each of the true class scores to see the recall of my scores.\n",
        "# Recall ranges from 47% to 83%, which isn't very good. It is weakest for damage_grade 1 (47%) but not much better for damage_grade 3 (59%).\n",
        "# Recall is high for damage_grade 2 (83%), but all of this just shows what I could tell above: the model is over-predicting damage_grade 2.\n",
        "\n",
        "print('Recall')\n",
        "print(conf_m.transpose()/conf_m.sum(axis=1))"
      ],
      "execution_count": 0,
      "outputs": [
        {
          "output_type": "stream",
          "text": [
            "Recall\n",
            "              class 1 actual  class 2 actual  class 3 actual\n",
            "class 1 pred        0.465377        0.041510        0.002405\n",
            "class 2 pred        0.527273        0.836809        0.406894\n",
            "class 3 pred        0.007350        0.121681        0.590701\n"
          ],
          "name": "stdout"
        }
      ]
    },
    {
      "cell_type": "code",
      "metadata": {
        "id": "fiiUKAb0VAlZ",
        "colab_type": "code",
        "colab": {}
      },
      "source": [
        "# My hope in manually identifying cutoff thresholds between the three damage_grades was to be able to force the damage_grade proportions\n",
        "# of my model's output to conform better to the damage_grade proportions in the overall training data. This technique had limited effect.\n",
        "# I give a few examples of different thresholds and their F1 scores and output class proportions below to illustrate."
      ],
      "execution_count": 0,
      "outputs": []
    },
    {
      "cell_type": "code",
      "metadata": {
        "id": "wwM3X84-VA6P",
        "colab_type": "code",
        "colab": {
          "base_uri": "https://localhost:8080/",
          "height": 295
        },
        "outputId": "9baf566a-f28e-4148-d8cc-c3d7ca44f669"
      },
      "source": [
        "# As a baseline, let's see the performance of the model when setting the threholds at the .5 mark. The F1 scores for both train and test\n",
        "# and the class proportions of the outputs are all marginally worse.\n",
        "\n",
        "def model_evaluation_find_threshold(model, X, y_true):\n",
        "    y_labels = model.predict(X)\n",
        "    y_labels_df = pd.DataFrame(y_labels)\n",
        "    y_labels_df['damage_grade'] = 2\n",
        "    y_labels_df.loc[y_labels_df[0] < 1.5, 'damage_grade'] = 1\n",
        "    y_labels_df.loc[y_labels_df[0] > 2.5, 'damage_grade'] = 3\n",
        "    y_labels_df['count'] = 1\n",
        "    predictions_pivot = y_labels_df.groupby(['damage_grade']).count()\n",
        "    predictions_pivot['percentage'] = predictions_pivot['count']/predictions_pivot['count'].sum()\n",
        "    scores = {}\n",
        "    scores['f1_score'] = f1_score(y_true, y_labels_df['damage_grade'], average='micro')\n",
        "    return scores, predictions_pivot, y_labels_df['damage_grade']\n",
        "\n",
        "def print_model_evaluation(model_name, scores, pivot):\n",
        "    print('{} evaluation \\n'.format(model_name))\n",
        "    for metric, score in scores.items():\n",
        "        print('Test {}: {}'.format(metric, score))\n",
        "        print(pivot)\n",
        "\n",
        "classifier_gs_scores_train, pivot_train, model_labels_train = model_evaluation_find_threshold(classifier_gs, X_train, y_train)\n",
        "print_model_evaluation('XGBoost', classifier_gs_scores_train, pivot_train)\n",
        "\n",
        "classifier_gs_scores_test, pivot_test, model_labels_test = model_evaluation_find_threshold(classifier_gs, X_test, y_test)\n",
        "print_model_evaluation('XGBoost', classifier_gs_scores_test, pivot_test)"
      ],
      "execution_count": 39,
      "outputs": [
        {
          "output_type": "stream",
          "text": [
            "XGBoost evaluation \n",
            "\n",
            "Test f1_score: 0.7238440138142749\n",
            "                   0   count  percentage\n",
            "damage_grade                            \n",
            "1              10388   10388    0.049827\n",
            "2             147087  147087    0.705521\n",
            "3              51005   51005    0.244652\n",
            "XGBoost evaluation \n",
            "\n",
            "Test f1_score: 0.7143186047850195\n",
            "                  0  count  percentage\n",
            "damage_grade                          \n",
            "1              2592   2592    0.049730\n",
            "2             36858  36858    0.707162\n",
            "3             12671  12671    0.243107\n"
          ],
          "name": "stdout"
        }
      ]
    },
    {
      "cell_type": "code",
      "metadata": {
        "id": "wNx6rVs9Wj8Q",
        "colab_type": "code",
        "colab": {
          "base_uri": "https://localhost:8080/",
          "height": 295
        },
        "outputId": "cd393863-f008-4fb2-a469-eb3b83e6b9fc"
      },
      "source": [
        "# Now let's see what the perforamnce measures look like when we set the thresholds to favor damage_grades 1 and 3 even more than my\n",
        "# thresholds above (1.6, 2.46). The F1 scores for train and test are marginally worse, even though the class output proportions are\n",
        "# marginally better. This tells us two things: 1) because we are optimizing fof F1 score, we should stick with our thresholds of (1.6, 2.46).\n",
        "# 2) The regression algorithm is unfortunately not doing a great job of differentiating between damage_grade 1 and damage_grade 2 on the\n",
        "# one hand, and on damage_grade 2 and damage_grade 3 on the other.\n",
        "\n",
        "def model_evaluation_find_threshold(model, X, y_true):\n",
        "    y_labels = model.predict(X)\n",
        "    y_labels_df = pd.DataFrame(y_labels)\n",
        "    y_labels_df['damage_grade'] = 2\n",
        "    y_labels_df.loc[y_labels_df[0] < 1.61, 'damage_grade'] = 1\n",
        "    y_labels_df.loc[y_labels_df[0] > 2.45, 'damage_grade'] = 3\n",
        "    y_labels_df['count'] = 1\n",
        "    predictions_pivot = y_labels_df.groupby(['damage_grade']).count()\n",
        "    predictions_pivot['percentage'] = predictions_pivot['count']/predictions_pivot['count'].sum()\n",
        "    scores = {}\n",
        "    scores['f1_score'] = f1_score(y_true, y_labels_df['damage_grade'], average='micro')\n",
        "    return scores, predictions_pivot, y_labels_df['damage_grade']\n",
        "\n",
        "def print_model_evaluation(model_name, scores, pivot):\n",
        "    print('{} evaluation \\n'.format(model_name))\n",
        "    for metric, score in scores.items():\n",
        "        print('Test {}: {}'.format(metric, score))\n",
        "        print(pivot)\n",
        "\n",
        "classifier_gs_scores_train, pivot_train, model_labels_train = model_evaluation_find_threshold(classifier_gs, X_train, y_train)\n",
        "print_model_evaluation('XGBoost', classifier_gs_scores_train, pivot_train)\n",
        "\n",
        "classifier_gs_scores_test, pivot_test, model_labels_test = model_evaluation_find_threshold(classifier_gs, X_test, y_test)\n",
        "print_model_evaluation('XGBoost', classifier_gs_scores_test, pivot_test)"
      ],
      "execution_count": 40,
      "outputs": [
        {
          "output_type": "stream",
          "text": [
            "XGBoost evaluation \n",
            "\n",
            "Test f1_score: 0.7259113584036837\n",
            "                   0   count  percentage\n",
            "damage_grade                            \n",
            "1              15223   15223    0.073019\n",
            "2             135660  135660    0.650710\n",
            "3              57597   57597    0.276271\n",
            "XGBoost evaluation \n",
            "\n",
            "Test f1_score: 0.716793614857735\n",
            "                  0  count  percentage\n",
            "damage_grade                          \n",
            "1              3815   3815    0.073195\n",
            "2             34000  34000    0.652328\n",
            "3             14306  14306    0.274477\n"
          ],
          "name": "stdout"
        }
      ]
    },
    {
      "cell_type": "code",
      "metadata": {
        "id": "paK6mHIHLqRM",
        "colab_type": "code",
        "colab": {}
      },
      "source": [
        "# Now, let's get predictions for the test set of data to submit in the competition. First we define a function to get the predictions\n",
        "# using the thresholds I discovered in my experimentation.\n",
        "\n",
        "def getPredictionAndAnalysis(X_features, model):\n",
        "\n",
        "  y_labels = model.predict(X_features)\n",
        "  y_labels_df = pd.DataFrame(y_labels)\n",
        "  y_labels_df['damage_grade'] = 2\n",
        "  y_labels_df.loc[y_labels_df[0] < 1.6, 'damage_grade'] = 1\n",
        "  y_labels_df.loc[y_labels_df[0] > 2.46, 'damage_grade'] = 3\n",
        "  y_labels_df['count'] = 1\n",
        "  predictions_pivot = y_labels_df.groupby(['damage_grade']).count()\n",
        "  predictions_pivot['percentage'] = predictions_pivot['count']/predictions_pivot['count'].sum()\n",
        "\n",
        "  return y_labels_df['damage_grade'], predictions_pivot, y_labels_df"
      ],
      "execution_count": 0,
      "outputs": []
    },
    {
      "cell_type": "code",
      "metadata": {
        "id": "0cfTCLUN3hyl",
        "colab_type": "code",
        "colab": {}
      },
      "source": [
        "# Then we get the prediction output.\n",
        "labels, test_pivot, test_pivot_df = getPredictionAndAnalysis(test_features_transformed_df, classifier_gs)"
      ],
      "execution_count": 0,
      "outputs": []
    },
    {
      "cell_type": "code",
      "metadata": {
        "id": "0HkJK0L27URN",
        "colab_type": "code",
        "outputId": "9b47c9fe-92a7-4938-a4d4-cb1d2a348d77",
        "colab": {
          "base_uri": "https://localhost:8080/",
          "height": 415
        }
      },
      "source": [
        "# Check the output\n",
        "test_pivot_df"
      ],
      "execution_count": 43,
      "outputs": [
        {
          "output_type": "execute_result",
          "data": {
            "text/html": [
              "<div>\n",
              "<style scoped>\n",
              "    .dataframe tbody tr th:only-of-type {\n",
              "        vertical-align: middle;\n",
              "    }\n",
              "\n",
              "    .dataframe tbody tr th {\n",
              "        vertical-align: top;\n",
              "    }\n",
              "\n",
              "    .dataframe thead th {\n",
              "        text-align: right;\n",
              "    }\n",
              "</style>\n",
              "<table border=\"1\" class=\"dataframe\">\n",
              "  <thead>\n",
              "    <tr style=\"text-align: right;\">\n",
              "      <th></th>\n",
              "      <th>0</th>\n",
              "      <th>damage_grade</th>\n",
              "      <th>count</th>\n",
              "    </tr>\n",
              "  </thead>\n",
              "  <tbody>\n",
              "    <tr>\n",
              "      <th>0</th>\n",
              "      <td>2.854345</td>\n",
              "      <td>3</td>\n",
              "      <td>1</td>\n",
              "    </tr>\n",
              "    <tr>\n",
              "      <th>1</th>\n",
              "      <td>2.211867</td>\n",
              "      <td>2</td>\n",
              "      <td>1</td>\n",
              "    </tr>\n",
              "    <tr>\n",
              "      <th>2</th>\n",
              "      <td>2.049302</td>\n",
              "      <td>2</td>\n",
              "      <td>1</td>\n",
              "    </tr>\n",
              "    <tr>\n",
              "      <th>3</th>\n",
              "      <td>1.178822</td>\n",
              "      <td>1</td>\n",
              "      <td>1</td>\n",
              "    </tr>\n",
              "    <tr>\n",
              "      <th>4</th>\n",
              "      <td>2.859063</td>\n",
              "      <td>3</td>\n",
              "      <td>1</td>\n",
              "    </tr>\n",
              "    <tr>\n",
              "      <th>...</th>\n",
              "      <td>...</td>\n",
              "      <td>...</td>\n",
              "      <td>...</td>\n",
              "    </tr>\n",
              "    <tr>\n",
              "      <th>86863</th>\n",
              "      <td>2.140169</td>\n",
              "      <td>2</td>\n",
              "      <td>1</td>\n",
              "    </tr>\n",
              "    <tr>\n",
              "      <th>86864</th>\n",
              "      <td>2.408236</td>\n",
              "      <td>2</td>\n",
              "      <td>1</td>\n",
              "    </tr>\n",
              "    <tr>\n",
              "      <th>86865</th>\n",
              "      <td>2.116575</td>\n",
              "      <td>2</td>\n",
              "      <td>1</td>\n",
              "    </tr>\n",
              "    <tr>\n",
              "      <th>86866</th>\n",
              "      <td>2.209028</td>\n",
              "      <td>2</td>\n",
              "      <td>1</td>\n",
              "    </tr>\n",
              "    <tr>\n",
              "      <th>86867</th>\n",
              "      <td>1.603893</td>\n",
              "      <td>2</td>\n",
              "      <td>1</td>\n",
              "    </tr>\n",
              "  </tbody>\n",
              "</table>\n",
              "<p>86868 rows × 3 columns</p>\n",
              "</div>"
            ],
            "text/plain": [
              "              0  damage_grade  count\n",
              "0      2.854345             3      1\n",
              "1      2.211867             2      1\n",
              "2      2.049302             2      1\n",
              "3      1.178822             1      1\n",
              "4      2.859063             3      1\n",
              "...         ...           ...    ...\n",
              "86863  2.140169             2      1\n",
              "86864  2.408236             2      1\n",
              "86865  2.116575             2      1\n",
              "86866  2.209028             2      1\n",
              "86867  1.603893             2      1\n",
              "\n",
              "[86868 rows x 3 columns]"
            ]
          },
          "metadata": {
            "tags": []
          },
          "execution_count": 43
        }
      ]
    },
    {
      "cell_type": "code",
      "metadata": {
        "id": "UJ6NYcPo4WhK",
        "colab_type": "code",
        "colab": {}
      },
      "source": [
        "# Format the output in the submission format\n",
        "test_labels_df = pd.DataFrame(test_pivot_df['damage_grade'])\n",
        "test_labels_df['building_id'] = test_vals['building_id']\n",
        "test_labels_df.columns = ['damage_grade', 'building_id']\n",
        "test_labels_df = test_labels_df[['building_id', 'damage_grade']]"
      ],
      "execution_count": 0,
      "outputs": []
    },
    {
      "cell_type": "code",
      "metadata": {
        "id": "2v0rQ8xwMncb",
        "colab_type": "code",
        "outputId": "ae0ff228-480d-43bd-d2e6-b71889fbf0d6",
        "colab": {
          "base_uri": "https://localhost:8080/",
          "height": 202
        }
      },
      "source": [
        "# Check it\n",
        "test_labels_df.head()"
      ],
      "execution_count": 45,
      "outputs": [
        {
          "output_type": "execute_result",
          "data": {
            "text/html": [
              "<div>\n",
              "<style scoped>\n",
              "    .dataframe tbody tr th:only-of-type {\n",
              "        vertical-align: middle;\n",
              "    }\n",
              "\n",
              "    .dataframe tbody tr th {\n",
              "        vertical-align: top;\n",
              "    }\n",
              "\n",
              "    .dataframe thead th {\n",
              "        text-align: right;\n",
              "    }\n",
              "</style>\n",
              "<table border=\"1\" class=\"dataframe\">\n",
              "  <thead>\n",
              "    <tr style=\"text-align: right;\">\n",
              "      <th></th>\n",
              "      <th>building_id</th>\n",
              "      <th>damage_grade</th>\n",
              "    </tr>\n",
              "  </thead>\n",
              "  <tbody>\n",
              "    <tr>\n",
              "      <th>0</th>\n",
              "      <td>300051</td>\n",
              "      <td>3</td>\n",
              "    </tr>\n",
              "    <tr>\n",
              "      <th>1</th>\n",
              "      <td>99355</td>\n",
              "      <td>2</td>\n",
              "    </tr>\n",
              "    <tr>\n",
              "      <th>2</th>\n",
              "      <td>890251</td>\n",
              "      <td>2</td>\n",
              "    </tr>\n",
              "    <tr>\n",
              "      <th>3</th>\n",
              "      <td>745817</td>\n",
              "      <td>1</td>\n",
              "    </tr>\n",
              "    <tr>\n",
              "      <th>4</th>\n",
              "      <td>421793</td>\n",
              "      <td>3</td>\n",
              "    </tr>\n",
              "  </tbody>\n",
              "</table>\n",
              "</div>"
            ],
            "text/plain": [
              "   building_id  damage_grade\n",
              "0       300051             3\n",
              "1        99355             2\n",
              "2       890251             2\n",
              "3       745817             1\n",
              "4       421793             3"
            ]
          },
          "metadata": {
            "tags": []
          },
          "execution_count": 45
        }
      ]
    },
    {
      "cell_type": "code",
      "metadata": {
        "id": "fj52KgyGMZkZ",
        "colab_type": "code",
        "outputId": "c4ab6d50-94c6-4745-e2c3-1cdc1a4487c1",
        "colab": {
          "base_uri": "https://localhost:8080/",
          "height": 202
        }
      },
      "source": [
        "# Compare it to the example submission format\n",
        "submission_format.head()"
      ],
      "execution_count": 46,
      "outputs": [
        {
          "output_type": "execute_result",
          "data": {
            "text/html": [
              "<div>\n",
              "<style scoped>\n",
              "    .dataframe tbody tr th:only-of-type {\n",
              "        vertical-align: middle;\n",
              "    }\n",
              "\n",
              "    .dataframe tbody tr th {\n",
              "        vertical-align: top;\n",
              "    }\n",
              "\n",
              "    .dataframe thead th {\n",
              "        text-align: right;\n",
              "    }\n",
              "</style>\n",
              "<table border=\"1\" class=\"dataframe\">\n",
              "  <thead>\n",
              "    <tr style=\"text-align: right;\">\n",
              "      <th></th>\n",
              "      <th>building_id</th>\n",
              "      <th>damage_grade</th>\n",
              "    </tr>\n",
              "  </thead>\n",
              "  <tbody>\n",
              "    <tr>\n",
              "      <th>0</th>\n",
              "      <td>300051</td>\n",
              "      <td>1</td>\n",
              "    </tr>\n",
              "    <tr>\n",
              "      <th>1</th>\n",
              "      <td>99355</td>\n",
              "      <td>1</td>\n",
              "    </tr>\n",
              "    <tr>\n",
              "      <th>2</th>\n",
              "      <td>890251</td>\n",
              "      <td>1</td>\n",
              "    </tr>\n",
              "    <tr>\n",
              "      <th>3</th>\n",
              "      <td>745817</td>\n",
              "      <td>1</td>\n",
              "    </tr>\n",
              "    <tr>\n",
              "      <th>4</th>\n",
              "      <td>421793</td>\n",
              "      <td>1</td>\n",
              "    </tr>\n",
              "  </tbody>\n",
              "</table>\n",
              "</div>"
            ],
            "text/plain": [
              "   building_id  damage_grade\n",
              "0       300051             1\n",
              "1        99355             1\n",
              "2       890251             1\n",
              "3       745817             1\n",
              "4       421793             1"
            ]
          },
          "metadata": {
            "tags": []
          },
          "execution_count": 46
        }
      ]
    },
    {
      "cell_type": "code",
      "metadata": {
        "id": "urkm8ipNQH2U",
        "colab_type": "code",
        "outputId": "a59a3358-fdf3-4c38-e481-fc9a59189849",
        "colab": {
          "base_uri": "https://localhost:8080/",
          "height": 35
        }
      },
      "source": [
        "# And print it out to my gdrive\n",
        "uploaded = drive.CreateFile({'title': 'submission4.csv'})\n",
        "uploaded.SetContentString(test_labels_df.to_string(index=False, ))\n",
        "uploaded.Upload()\n",
        "print('Uploaded file with ID {}'.format(uploaded.get('id')))"
      ],
      "execution_count": 0,
      "outputs": [
        {
          "output_type": "stream",
          "text": [
            "Uploaded file with ID 1r5MXUa6D2y4GtKwgZKgqHeu0s-D_73IL\n"
          ],
          "name": "stdout"
        }
      ]
    },
    {
      "cell_type": "code",
      "metadata": {
        "id": "9j9MmImI-BP_",
        "colab_type": "code",
        "colab": {}
      },
      "source": [
        ""
      ],
      "execution_count": 0,
      "outputs": []
    }
  ]
}